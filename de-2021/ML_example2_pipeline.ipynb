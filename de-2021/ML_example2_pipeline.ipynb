{
 "cells": [
  {
   "cell_type": "markdown",
   "metadata": {},
   "source": [
    "From: https://spark.apache.org/docs/2.3.0/ml-pipeline.html"
   ]
  },
  {
   "cell_type": "code",
   "execution_count": 1,
   "metadata": {},
   "outputs": [],
   "source": [
    "from pyspark.sql import SparkSession\n",
    "\n",
    "from pyspark.ml import Pipeline\n",
    "from pyspark.ml.classification import LogisticRegression\n",
    "from pyspark.ml.feature import HashingTF, Tokenizer\n",
    "\n",
    "\n",
    "# (8 cores, 16gb per machine) x 5 = 40 cores\n",
    "\n",
    "# New API\n",
    "spark_session = SparkSession\\\n",
    "        .builder\\\n",
    "        .master(\"spark://192.168.2.87:7077\") \\\n",
    "        .config(\"spark.dynamicAllocation.enabled\", True)\\\n",
    "        .config(\"spark.shuffle.service.enabled\", True)\\\n",
    "        .config(\"spark.dynamicAllocation.executorIdleTimeout\",\"30s\")\\\n",
    "        .config(\"spark.executor.cores\",4)\\\n",
    "        .getOrCreate()"
   ]
  },
  {
   "cell_type": "code",
   "execution_count": 2,
   "metadata": {},
   "outputs": [
    {
     "name": "stdout",
     "output_type": "stream",
     "text": [
      "[Row(id=0, text='a b c d e spark spark', label=1.0, words=['a', 'b', 'c', 'd', 'e', 'spark', 'spark']), Row(id=1, text='b d', label=0.0, words=['b', 'd']), Row(id=2, text='spark f f g h', label=1.0, words=['spark', 'f', 'f', 'g', 'h']), Row(id=3, text='hadoop mapreduce', label=0.0, words=['hadoop', 'mapreduce'])]\n",
      "\n",
      "\n",
      "\n",
      "[Row(id=0, text='a b c d e spark spark', label=1.0, words=['a', 'b', 'c', 'd', 'e', 'spark', 'spark'], features=SparseVector(262144, {17222: 1.0, 27526: 1.0, 28698: 1.0, 30913: 1.0, 227410: 1.0, 234657: 2.0})), Row(id=1, text='b d', label=0.0, words=['b', 'd'], features=SparseVector(262144, {27526: 1.0, 30913: 1.0})), Row(id=2, text='spark f f g h', label=1.0, words=['spark', 'f', 'f', 'g', 'h'], features=SparseVector(262144, {15554: 1.0, 24152: 2.0, 51505: 1.0, 234657: 1.0})), Row(id=3, text='hadoop mapreduce', label=0.0, words=['hadoop', 'mapreduce'], features=SparseVector(262144, {42633: 1.0, 155117: 1.0}))]\n",
      "\n",
      "\n",
      "\n"
     ]
    }
   ],
   "source": [
    "# Example - classify whether documents relate to BigData\n",
    "\n",
    "# Prepare training documents from a list of (id, text, label) tuples.\n",
    "training_df = spark_session.createDataFrame([\n",
    "    (0, \"a b c d e spark spark\", 1.0),\n",
    "    (1, \"b d\", 0.0),\n",
    "    (2, \"spark f f g h\", 1.0),\n",
    "    (3, \"hadoop mapreduce\", 0.0)\n",
    "], [\"id\", \"text\", \"label\"])\n",
    "\n",
    "# Configure an ML pipeline, which consists of three stages: tokenizer, hashingTF, and lr.\n",
    "\n",
    "# Transformer 1: Tokenizer (splits up words)\n",
    "tokenizer = Tokenizer(inputCol=\"text\", outputCol=\"words\")\n",
    "example_df = tokenizer.transform(training_df)\n",
    "print(example_df.collect())\n",
    "print('\\n\\n')\n",
    "\n",
    "# Transformer 2: Convert Words into word frequencies (TF = \"Term Frequency\")\n",
    "hashingTF = HashingTF(inputCol=tokenizer.getOutputCol(), outputCol=\"features\")\n",
    "example_df = hashingTF.transform(example_df)\n",
    "print(example_df.collect())\n",
    "print('\\n\\n')\n",
    "\n",
    "\n",
    "# Model: Logistic Regression\n",
    "lr = LogisticRegression(maxIter=10)\n",
    "\n",
    "\n",
    "# Put them together as a pipeline.\n",
    "pipeline = Pipeline(stages=[tokenizer, hashingTF, lr])"
   ]
  },
  {
   "cell_type": "code",
   "execution_count": 3,
   "metadata": {},
   "outputs": [
    {
     "name": "stdout",
     "output_type": "stream",
     "text": [
      "(4, spark i j k) --> prob=[0.22303410097016266,0.7769658990298373], prediction=1.000000\n",
      "(5, l m n) --> prob=[0.7809592403359353,0.21904075966406467], prediction=0.000000\n",
      "(6, spark hadoop spark) --> prob=[0.4167570490507484,0.5832429509492517], prediction=1.000000\n",
      "(7, apache hadoop) --> prob=[0.9910096584033983,0.008990341596601767], prediction=0.000000\n"
     ]
    }
   ],
   "source": [
    "# Fit the pipeline to training documents.\n",
    "model = pipeline.fit(training_df)\n",
    "\n",
    "# Prepare test documents, which are unlabeled (id, text) tuples.\n",
    "test_df = spark_session.createDataFrame([\n",
    "    (4, \"spark i j k\"),\n",
    "    (5, \"l m n\"),\n",
    "    (6, \"spark hadoop spark\"),\n",
    "    (7, \"apache hadoop\")\n",
    "], [\"id\", \"text\"])\n",
    "\n",
    "# Make predictions on test documents and print columns of interest.\n",
    "prediction_df = model.transform(test_df)\n",
    "selected_df = prediction_df.select(\"id\", \"text\", \"probability\", \"prediction\")\n",
    "for row in selected_df.collect():\n",
    "    rid, text, prob, prediction = row\n",
    "    print(\"(%d, %s) --> prob=%s, prediction=%f\" % (rid, text, str(prob), prediction))"
   ]
  }
 ],
 "metadata": {
  "kernelspec": {
   "display_name": "Python 3",
   "language": "python",
   "name": "python3"
  },
  "language_info": {
   "codemirror_mode": {
    "name": "ipython",
    "version": 3
   },
   "file_extension": ".py",
   "mimetype": "text/x-python",
   "name": "python",
   "nbconvert_exporter": "python",
   "pygments_lexer": "ipython3",
   "version": "3.6.9"
  }
 },
 "nbformat": 4,
 "nbformat_minor": 2
}
