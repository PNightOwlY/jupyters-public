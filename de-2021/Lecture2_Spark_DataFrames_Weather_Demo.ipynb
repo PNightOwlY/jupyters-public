{
 "cells": [
  {
   "cell_type": "code",
   "execution_count": 20,
   "metadata": {},
   "outputs": [
    {
     "data": {
      "text/html": [
       "<style>.container { width:100% !important; }</style>"
      ],
      "text/plain": [
       "<IPython.core.display.HTML object>"
      ]
     },
     "metadata": {},
     "output_type": "display_data"
    }
   ],
   "source": [
    "from IPython.core.display import display, HTML\n",
    "display(HTML(\"<style>.container { width:100% !important; }</style>\"))"
   ]
  },
  {
   "cell_type": "code",
   "execution_count": 21,
   "metadata": {},
   "outputs": [],
   "source": [
    "from pprint import pprint\n",
    "from pyspark.sql import SparkSession\n",
    "\n",
    "# New API\n",
    "spark_session = SparkSession\\\n",
    "        .builder\\\n",
    "        .master(\"spark://192.168.2.87:7077\") \\\n",
    "        .config(\"spark.dynamicAllocation.enabled\", True)\\\n",
    "        .config(\"spark.shuffle.service.enabled\", True)\\\n",
    "        .config(\"spark.dynamicAllocation.executorIdleTimeout\",\"30s\")\\\n",
    "        .config(\"spark.executor.cores\",4)\\\n",
    "        .appName(\"read_weather_data\")\\\n",
    "        .getOrCreate()\n",
    "\n",
    "# Old API (RDD)\n",
    "spark_context = spark_session.sparkContext"
   ]
  },
  {
   "cell_type": "code",
   "execution_count": 23,
   "metadata": {},
   "outputs": [],
   "source": [
    "data_frame = spark_session.read\\\n",
    "    .option(\"header\", \"true\")\\\n",
    "    .csv('hdfs://192.168.2.87:9000/weather.csv')\\\n",
    "    .cache()"
   ]
  },
  {
   "cell_type": "code",
   "execution_count": 24,
   "metadata": {},
   "outputs": [
    {
     "data": {
      "text/plain": [
       "'http://host-192-168-2-131-ldsa:4040'"
      ]
     },
     "execution_count": 24,
     "metadata": {},
     "output_type": "execute_result"
    }
   ],
   "source": [
    "spark_context.uiWebUrl"
   ]
  },
  {
   "cell_type": "code",
   "execution_count": 25,
   "metadata": {},
   "outputs": [
    {
     "data": {
      "text/plain": [
       "8673817"
      ]
     },
     "execution_count": 25,
     "metadata": {},
     "output_type": "execute_result"
    }
   ],
   "source": [
    "# Count the files:\n",
    "#$ find -type f | wc -l\n",
    "# 2546\n",
    "\n",
    "# Count the lines in 1 file:\n",
    "# $cat 10224099999.csv | wc -l\n",
    "# 8756\n",
    "\n",
    "# Count the CSV rows:\n",
    "data_frame.count()\n",
    "\n",
    "# Maximum rows in excel: 1,048,576\n",
    "# https://support.office.com/en-us/article/excel-specifications-and-limits-1672b34d-7043-467e-8e27-269d656771c3"
   ]
  },
  {
   "cell_type": "code",
   "execution_count": 6,
   "metadata": {},
   "outputs": [
    {
     "name": "stdout",
     "output_type": "stream",
     "text": [
      "+-----------+-------------------+------+--------+----------+---------+---------------+-----------+---------+---------------+--------------+-----------+------------+-------+-------+-------+-----------+--------+--------------------+-------------+----+----+\n",
      "|    STATION|               DATE|SOURCE|LATITUDE| LONGITUDE|ELEVATION|           NAME|REPORT_TYPE|CALL_SIGN|QUALITY_CONTROL|           WND|        CIG|         VIS|    TMP|    DEW|    SLP|        AA1|     AY1|                 GF1|          KA1| MW1| EQD|\n",
      "+-----------+-------------------+------+--------+----------+---------+---------------+-----------+---------+---------------+--------------+-----------+------------+-------+-------+-------+-----------+--------+--------------------+-------------+----+----+\n",
      "|01199099999|1950-01-01T07:00:00|     4|   68.75|23.5333333|    382.0|SIHCCAJAVRI, NO|      FM-12|    99999|           V020|160,1,N,0026,1|99999,9,9,N|999999,9,N,9|-0161,1|+9999,9|99999,9|99,0020,9,1|7,1,99,9|08,99,1,99,9,99,9...|999,N,-0228,1|73,1|null|\n",
      "|01199099999|1950-01-01T12:00:00|     4|   68.75|23.5333333|    382.0|SIHCCAJAVRI, NO|      FM-12|    99999|           V020|140,1,N,0026,1|22000,1,C,N|999999,9,N,9|-0178,1|+9999,9|99999,9|       null|0,1,99,9|04,99,1,99,9,99,9...|         null|00,1|null|\n",
      "|01199099999|1950-01-01T18:00:00|     4|   68.75|23.5333333|    382.0|SIHCCAJAVRI, NO|      FM-12|    99999|           V020|090,1,N,0026,1|22000,1,C,N|999999,9,N,9|-0228,1|+9999,9|99999,9|       null|0,1,99,9|04,99,1,99,9,99,9...|         null|00,1|null|\n",
      "|01199099999|1950-01-02T07:00:00|     4|   68.75|23.5333333|    382.0|SIHCCAJAVRI, NO|      FM-12|    99999|           V020|100,1,N,0010,1|22000,1,C,N|999999,9,N,9|-0261,1|+9999,9|99999,9|       null|0,1,99,9|04,99,1,99,9,99,9...|999,N,-0350,1|00,1|null|\n",
      "|01199099999|1950-01-02T12:00:00|     4|   68.75|23.5333333|    382.0|SIHCCAJAVRI, NO|      FM-12|    99999|           V020|100,1,N,0010,1|22000,1,C,N|999999,9,N,9|-0261,1|+9999,9|99999,9|       null|0,1,99,9|03,99,1,99,9,99,9...|         null|00,1|null|\n",
      "|01199099999|1950-01-02T18:00:00|     4|   68.75|23.5333333|    382.0|SIHCCAJAVRI, NO|      FM-12|    99999|           V020|180,1,N,0010,1|22000,1,C,N|999999,9,N,9|-0300,1|+9999,9|99999,9|       null|0,1,99,9|04,99,1,99,9,99,9...|         null|00,1|null|\n",
      "|01199099999|1950-01-03T07:00:00|     4|   68.75|23.5333333|    382.0|SIHCCAJAVRI, NO|      FM-12|    99999|           V020|250,1,N,0026,1|22000,1,C,N|999999,9,N,9|-0289,1|+9999,9|99999,9|       null|0,1,99,9|04,99,1,99,9,99,9...|999,N,-0339,1|00,1|null|\n",
      "|01199099999|1950-01-03T12:00:00|     4|   68.75|23.5333333|    382.0|SIHCCAJAVRI, NO|      FM-12|    99999|           V020|240,1,N,0026,1|22000,1,C,N|999999,9,N,9|-0311,1|+9999,9|99999,9|       null|0,1,99,9|02,99,1,99,9,99,9...|         null|00,1|null|\n",
      "|01199099999|1950-01-03T18:00:00|     4|   68.75|23.5333333|    382.0|SIHCCAJAVRI, NO|      FM-12|    99999|           V020|090,1,N,0010,1|22000,1,C,N|999999,9,N,9|-0250,1|+9999,9|99999,9|       null|0,1,99,9|04,99,1,99,9,99,9...|         null|00,1|null|\n",
      "|01199099999|1950-01-04T07:00:00|     4|   68.75|23.5333333|    382.0|SIHCCAJAVRI, NO|      FM-12|    99999|           V020|200,1,N,0010,1|22000,1,C,N|999999,9,N,9|-0350,1|+9999,9|99999,9|       null|0,1,99,9|03,99,1,99,9,99,9...|999,N,-0361,1|00,1|null|\n",
      "|01199099999|1950-01-04T12:00:00|     4|   68.75|23.5333333|    382.0|SIHCCAJAVRI, NO|      FM-12|    99999|           V020|240,1,N,0026,1|99999,9,9,N|999999,9,N,9|-0272,1|+9999,9|99999,9|       null|0,1,99,9|07,99,1,99,9,99,9...|         null|00,1|null|\n",
      "|01199099999|1950-01-04T18:00:00|     4|   68.75|23.5333333|    382.0|SIHCCAJAVRI, NO|      FM-12|    99999|           V020|270,1,N,0026,1|99999,9,9,N|999999,9,N,9|-0228,1|+9999,9|99999,9|       null|0,1,99,9|07,99,1,99,9,99,9...|         null|00,1|null|\n",
      "|01199099999|1950-01-05T07:00:00|     4|   68.75|23.5333333|    382.0|SIHCCAJAVRI, NO|      FM-12|    99999|           V020|040,1,N,0046,1|99999,9,9,N|999999,9,N,9|-0150,1|+9999,9|99999,9|       null|0,1,99,9|07,99,1,99,9,99,9...|999,N,-0250,1|00,1|null|\n",
      "|01199099999|1950-01-05T12:00:00|     4|   68.75|23.5333333|    382.0|SIHCCAJAVRI, NO|      FM-12|    99999|           V020|040,1,N,0026,1|22000,1,C,N|999999,9,N,9|-0211,1|+9999,9|99999,9|       null|0,1,99,9|01,99,1,99,9,99,9...|         null|00,1|null|\n",
      "|01199099999|1950-01-05T18:00:00|     4|   68.75|23.5333333|    382.0|SIHCCAJAVRI, NO|      FM-12|    99999|           V020|040,1,N,0010,1|99999,9,9,N|999999,9,N,9|-0189,1|+9999,9|99999,9|       null|0,1,99,9|08,99,1,99,9,99,9...|         null|71,1|null|\n",
      "|01199099999|1950-01-06T07:00:00|     4|   68.75|23.5333333|    382.0|SIHCCAJAVRI, NO|      FM-12|    99999|           V020|290,1,N,0010,1|22000,1,C,N|999999,9,N,9|-0289,1|+9999,9|99999,9|99,0005,9,1|0,1,99,9|03,99,1,99,9,99,9...|999,N,-0300,1|10,1|null|\n",
      "|01199099999|1950-01-06T12:00:00|     4|   68.75|23.5333333|    382.0|SIHCCAJAVRI, NO|      FM-12|    99999|           V020|090,1,N,0026,1|22000,1,C,N|999999,9,N,9|-0239,1|+9999,9|99999,9|       null|0,1,99,9|03,99,1,99,9,99,9...|         null|00,1|null|\n",
      "|01199099999|1950-01-06T18:00:00|     4|   68.75|23.5333333|    382.0|SIHCCAJAVRI, NO|      FM-12|    99999|           V020|210,1,N,0010,1|99999,9,9,N|999999,9,N,9|-0228,1|+9999,9|99999,9|       null|0,1,99,9|08,99,1,99,9,99,9...|         null|null|null|\n",
      "|01199099999|1950-01-07T07:00:00|     4|   68.75|23.5333333|    382.0|SIHCCAJAVRI, NO|      FM-12|    99999|           V020|300,1,N,0010,1|99999,9,9,N|999999,9,N,9|-0300,1|+9999,9|99999,9|       null|0,1,99,9|08,99,1,99,9,99,9...|999,N,-0400,1|00,1|null|\n",
      "|01199099999|1950-01-07T12:00:00|     4|   68.75|23.5333333|    382.0|SIHCCAJAVRI, NO|      FM-12|    99999|           V020|210,1,N,0010,1|22000,1,C,N|999999,9,N,9|-0289,1|+9999,9|99999,9|       null|0,1,99,9|03,99,1,99,9,99,9...|         null|00,1|null|\n",
      "+-----------+-------------------+------+--------+----------+---------+---------------+-----------+---------+---------------+--------------+-----------+------------+-------+-------+-------+-----------+--------+--------------------+-------------+----+----+\n",
      "only showing top 20 rows\n",
      "\n"
     ]
    }
   ],
   "source": [
    "data_frame.show()"
   ]
  },
  {
   "cell_type": "code",
   "execution_count": 7,
   "metadata": {},
   "outputs": [
    {
     "name": "stdout",
     "output_type": "stream",
     "text": [
      "root\n",
      " |-- STATION: string (nullable = true)\n",
      " |-- DATE: string (nullable = true)\n",
      " |-- SOURCE: string (nullable = true)\n",
      " |-- LATITUDE: string (nullable = true)\n",
      " |-- LONGITUDE: string (nullable = true)\n",
      " |-- ELEVATION: string (nullable = true)\n",
      " |-- NAME: string (nullable = true)\n",
      " |-- REPORT_TYPE: string (nullable = true)\n",
      " |-- CALL_SIGN: string (nullable = true)\n",
      " |-- QUALITY_CONTROL: string (nullable = true)\n",
      " |-- WND: string (nullable = true)\n",
      " |-- CIG: string (nullable = true)\n",
      " |-- VIS: string (nullable = true)\n",
      " |-- TMP: string (nullable = true)\n",
      " |-- DEW: string (nullable = true)\n",
      " |-- SLP: string (nullable = true)\n",
      " |-- AA1: string (nullable = true)\n",
      " |-- AY1: string (nullable = true)\n",
      " |-- GF1: string (nullable = true)\n",
      " |-- KA1: string (nullable = true)\n",
      " |-- MW1: string (nullable = true)\n",
      " |-- EQD: string (nullable = true)\n",
      "\n"
     ]
    }
   ],
   "source": [
    "data_frame.printSchema()"
   ]
  },
  {
   "cell_type": "code",
   "execution_count": 8,
   "metadata": {},
   "outputs": [
    {
     "data": {
      "text/plain": [
       "[Row(STATION='01199099999', DATE='1950-01-01T07:00:00', SOURCE='4', LATITUDE='68.75', LONGITUDE='23.5333333', ELEVATION='382.0', NAME='SIHCCAJAVRI, NO', REPORT_TYPE='FM-12', CALL_SIGN='99999', QUALITY_CONTROL='V020', WND='160,1,N,0026,1', CIG='99999,9,9,N', VIS='999999,9,N,9', TMP='-0161,1', DEW='+9999,9', SLP='99999,9', AA1='99,0020,9,1', AY1='7,1,99,9', GF1='08,99,1,99,9,99,9,99999,9,99,9,99,9', KA1='999,N,-0228,1', MW1='73,1', EQD=None)]"
      ]
     },
     "execution_count": 8,
     "metadata": {},
     "output_type": "execute_result"
    }
   ],
   "source": [
    "# 'old' RDD API underneath...\n",
    "data_frame.rdd.take(1)"
   ]
  },
  {
   "cell_type": "code",
   "execution_count": 9,
   "metadata": {},
   "outputs": [
    {
     "data": {
      "text/plain": [
       "21"
      ]
     },
     "execution_count": 9,
     "metadata": {},
     "output_type": "execute_result"
    }
   ],
   "source": [
    "data_frame.rdd.getNumPartitions()"
   ]
  },
  {
   "cell_type": "code",
   "execution_count": 10,
   "metadata": {},
   "outputs": [
    {
     "data": {
      "text/plain": [
       "[Row(NAME='GREAT FALLS AIRPORT, MT US'),\n",
       " Row(NAME='WINSTON SALEM REYNOLDS AIRPORT, NC US'),\n",
       " Row(NAME='PINE BLUFF GRIDER FIELD, AR US'),\n",
       " Row(NAME='PAVELETS, RS'),\n",
       " Row(NAME='BOLGRAD, UP'),\n",
       " Row(NAME='ZHANGIZTOBE, KZ'),\n",
       " Row(NAME='KSARA LEBABON, LE'),\n",
       " Row(NAME='PORT SWEETENHAM, MY'),\n",
       " Row(NAME='BLIDA, AG'),\n",
       " Row(NAME='ES SENIA, AG')]"
      ]
     },
     "execution_count": 10,
     "metadata": {},
     "output_type": "execute_result"
    }
   ],
   "source": [
    "# .distinct()\n",
    "data_frame.select('NAME').distinct().take(10)"
   ]
  },
  {
   "cell_type": "code",
   "execution_count": 11,
   "metadata": {},
   "outputs": [
    {
     "data": {
      "text/plain": [
       "2525"
      ]
     },
     "execution_count": 11,
     "metadata": {},
     "output_type": "execute_result"
    }
   ],
   "source": [
    "# .count()\n",
    "data_frame.select('NAME').distinct().count()"
   ]
  },
  {
   "cell_type": "code",
   "execution_count": 12,
   "metadata": {
    "scrolled": true
   },
   "outputs": [
    {
     "data": {
      "text/plain": [
       "[Row(WND='130,1,N,0026,1'),\n",
       " Row(WND='135,1,N,0026,1'),\n",
       " Row(WND='180,1,N,0036,1'),\n",
       " Row(WND='180,1,N,0036,1'),\n",
       " Row(WND='140,1,N,0021,1'),\n",
       " Row(WND='135,1,N,0021,1'),\n",
       " Row(WND='170,1,N,0026,1'),\n",
       " Row(WND='180,1,N,0026,1'),\n",
       " Row(WND='170,1,N,0026,1'),\n",
       " Row(WND='180,1,N,0026,1')]"
      ]
     },
     "execution_count": 12,
     "metadata": {},
     "output_type": "execute_result"
    }
   ],
   "source": [
    "# .take() (like .show())\n",
    "data_frame.filter('NAME == \"PRESTWICK, UK\"').select('WND').take(10)"
   ]
  },
  {
   "cell_type": "code",
   "execution_count": 13,
   "metadata": {},
   "outputs": [
    {
     "name": "stdout",
     "output_type": "stream",
     "text": [
      "+--------------+------------+\n",
      "|           WND|WND_SPEED_MS|\n",
      "+--------------+------------+\n",
      "|160,1,N,0026,1|         2.6|\n",
      "|140,1,N,0026,1|         2.6|\n",
      "|090,1,N,0026,1|         2.6|\n",
      "|100,1,N,0010,1|         1.0|\n",
      "|100,1,N,0010,1|         1.0|\n",
      "|180,1,N,0010,1|         1.0|\n",
      "|250,1,N,0026,1|         2.6|\n",
      "|240,1,N,0026,1|         2.6|\n",
      "|090,1,N,0010,1|         1.0|\n",
      "|200,1,N,0010,1|         1.0|\n",
      "|240,1,N,0026,1|         2.6|\n",
      "|270,1,N,0026,1|         2.6|\n",
      "|040,1,N,0046,1|         4.6|\n",
      "|040,1,N,0026,1|         2.6|\n",
      "|040,1,N,0010,1|         1.0|\n",
      "|290,1,N,0010,1|         1.0|\n",
      "|090,1,N,0026,1|         2.6|\n",
      "|210,1,N,0010,1|         1.0|\n",
      "|300,1,N,0010,1|         1.0|\n",
      "|210,1,N,0010,1|         1.0|\n",
      "+--------------+------------+\n",
      "only showing top 20 rows\n",
      "\n",
      "+-------+------------------+\n",
      "|summary|      WND_SPEED_MS|\n",
      "+-------+------------------+\n",
      "|  count|           8601428|\n",
      "|   mean|4.0470310511293395|\n",
      "| stddev|3.2041228109591438|\n",
      "|    min|               0.0|\n",
      "|    25%|               1.5|\n",
      "|    50%|               3.6|\n",
      "|    75%|               5.7|\n",
      "|    max|               9.8|\n",
      "+-------+------------------+\n",
      "\n"
     ]
    }
   ],
   "source": [
    "# Convert a column\n",
    "\n",
    "import pyspark\n",
    "from pyspark.sql.functions import udf\n",
    "from pyspark.sql.types import StringType\n",
    "\n",
    "def WND_to_WND_SPEED_MS(wnd):\n",
    "  s = wnd.split(',')\n",
    "  if len(s) < 2:\n",
    "        # assume missing\n",
    "        return 999\n",
    "  return float(s[3])/10\n",
    "\n",
    "# User-defined function. Input type is a string.\n",
    "udf_WND_to_WND_SPEED_MS = udf(WND_to_WND_SPEED_MS, StringType())\n",
    "\n",
    "\n",
    "# 9999: missing (with scale factor of 10)\n",
    "data_frame_with_wnd_speed = data_frame.withColumn(\"WND_SPEED_MS\", udf_WND_to_WND_SPEED_MS(\"WND\"))\n",
    "\n",
    "\n",
    "\n",
    "data_frame_with_wnd_speed = data_frame_with_wnd_speed.filter(data_frame_with_wnd_speed['WND_SPEED_MS'] <= 900)\n",
    "\n",
    "data_frame_with_wnd_speed.cache()\n",
    "\n",
    "data_frame_with_wnd_speed.select('WND', 'WND_SPEED_MS').show()\n",
    "\n",
    "data_frame_with_wnd_speed.select('WND_SPEED_MS').summary().show()\n",
    "\n",
    "# Looks a lot like a Panda... "
   ]
  },
  {
   "cell_type": "code",
   "execution_count": 14,
   "metadata": {},
   "outputs": [
    {
     "name": "stdout",
     "output_type": "stream",
     "text": [
      "+--------------------+------------------+\n",
      "|                NAME|  AVG_WND_SPEED_MS|\n",
      "+--------------------+------------------+\n",
      "|  VESTMANNAEYJAR, IC|            11.555|\n",
      "| CAMPBELL ISLAND, NZ|10.924466571835005|\n",
      "|    GRAN CANARIA, SP|10.658823529411762|\n",
      "|       LANZAROTE, SP|10.207692307692309|\n",
      "|AMCHITKA ISLAND, ...| 10.05585070611949|\n",
      "|MOUNT LAGUNA CAA ...|  9.96358447488591|\n",
      "|FELDBERG SCHWARZW...|   9.5155817174515|\n",
      "|LUDERITZ DIAZ POI...| 9.252941176470593|\n",
      "|PINE SPRINGS GUAD...| 8.779119561493236|\n",
      "|   ILE AMSTERDAM, FS| 8.772727272727295|\n",
      "|        WALES, AK US| 8.759103385178399|\n",
      "|   MARION ISLAND, SF|  8.67556008146638|\n",
      "|           MATUA, RS| 8.636529680365339|\n",
      "|    ARGENTIA AUT, CA| 8.558078552616378|\n",
      "|       CASPER, WY US|  8.35883822610875|\n",
      "|           ASSAB, ER| 8.353956834532378|\n",
      "|  BUHTA GAVRIILA, RS| 8.194366197183165|\n",
      "|   CAPE CAMPBELL, NZ| 8.194150417827288|\n",
      "|       MOGADISHU, SO| 8.189841269841274|\n",
      "|       KANIN NOS, RS| 8.145466155810983|\n",
      "+--------------------+------------------+\n",
      "only showing top 20 rows\n",
      "\n"
     ]
    }
   ],
   "source": [
    "# .agg(), .orderby()  -- where is the avg most windy place?\n",
    "\n",
    "most_windy = data_frame_with_wnd_speed.groupby('NAME')\\\n",
    "    .agg({'WND_SPEED_MS': 'mean'})\\\n",
    "    .orderBy('avg(WND_SPEED_MS)', ascending=False)\\\n",
    "\n",
    "\n",
    "\n",
    "# Rename a column\n",
    "most_windy = most_windy.withColumnRenamed('avg(WND_SPEED_MS)','AVG_WND_SPEED_MS')\n",
    "    \n",
    "most_windy.show()"
   ]
  },
  {
   "cell_type": "code",
   "execution_count": 15,
   "metadata": {},
   "outputs": [
    {
     "data": {
      "text/plain": [
       "1460"
      ]
     },
     "execution_count": 15,
     "metadata": {},
     "output_type": "execute_result"
    }
   ],
   "source": [
    "vestic_df = data_frame_with_wnd_speed.filter(data_frame_with_wnd_speed['NAME'] == 'VESTMANNAEYJAR, IC')\n",
    "vestic_df.count()\n",
    "# ..ie readings 4/day"
   ]
  },
  {
   "cell_type": "code",
   "execution_count": 16,
   "metadata": {},
   "outputs": [
    {
     "name": "stdout",
     "output_type": "stream",
     "text": [
      "+------------------+-------------------+------------+\n",
      "|              NAME|               DATE|WND_SPEED_MS|\n",
      "+------------------+-------------------+------------+\n",
      "|VESTMANNAEYJAR, IC|1950-01-01T00:00:00|        12.3|\n",
      "|VESTMANNAEYJAR, IC|1950-01-01T06:00:00|        11.3|\n",
      "|VESTMANNAEYJAR, IC|1950-01-01T12:00:00|         7.2|\n",
      "|VESTMANNAEYJAR, IC|1950-01-01T18:00:00|        11.8|\n",
      "|VESTMANNAEYJAR, IC|1950-01-02T00:00:00|         4.1|\n",
      "|VESTMANNAEYJAR, IC|1950-01-02T06:00:00|        13.9|\n",
      "|VESTMANNAEYJAR, IC|1950-01-02T12:00:00|         8.2|\n",
      "|VESTMANNAEYJAR, IC|1950-01-02T18:00:00|         6.2|\n",
      "|VESTMANNAEYJAR, IC|1950-01-03T00:00:00|         8.7|\n",
      "|VESTMANNAEYJAR, IC|1950-01-03T06:00:00|        12.3|\n",
      "|VESTMANNAEYJAR, IC|1950-01-03T12:00:00|        24.2|\n",
      "|VESTMANNAEYJAR, IC|1950-01-03T18:00:00|        26.8|\n",
      "|VESTMANNAEYJAR, IC|1950-01-04T00:00:00|        32.9|\n",
      "|VESTMANNAEYJAR, IC|1950-01-04T06:00:00|        31.9|\n",
      "|VESTMANNAEYJAR, IC|1950-01-04T12:00:00|        28.8|\n",
      "|VESTMANNAEYJAR, IC|1950-01-04T18:00:00|        29.3|\n",
      "|VESTMANNAEYJAR, IC|1950-01-05T00:00:00|        30.9|\n",
      "|VESTMANNAEYJAR, IC|1950-01-05T06:00:00|        30.9|\n",
      "|VESTMANNAEYJAR, IC|1950-01-05T12:00:00|        27.8|\n",
      "|VESTMANNAEYJAR, IC|1950-01-05T18:00:00|         4.6|\n",
      "+------------------+-------------------+------------+\n",
      "only showing top 20 rows\n",
      "\n"
     ]
    }
   ],
   "source": [
    "vestic_df.select('NAME','DATE', 'WND_SPEED_MS').show()"
   ]
  },
  {
   "cell_type": "code",
   "execution_count": 17,
   "metadata": {},
   "outputs": [
    {
     "name": "stdout",
     "output_type": "stream",
     "text": [
      "+-----------+------------------+\n",
      "|DAY_OF_YEAR| avg(WND_SPEED_MS)|\n",
      "+-----------+------------------+\n",
      "|          1|             10.65|\n",
      "|          2|               8.1|\n",
      "|          3|              18.0|\n",
      "|          4|30.724999999999998|\n",
      "|          5|23.549999999999997|\n",
      "|          6|            23.025|\n",
      "|          7|30.075000000000003|\n",
      "|          8|            40.275|\n",
      "|          9|17.325000000000003|\n",
      "|         10|              13.5|\n",
      "|         11|19.400000000000002|\n",
      "|         12|              19.8|\n",
      "|         13|            15.675|\n",
      "|         14|12.200000000000003|\n",
      "|         15|             7.975|\n",
      "|         16|            10.925|\n",
      "|         17|              16.3|\n",
      "|         18|              13.5|\n",
      "|         19|            16.425|\n",
      "|         20|              11.7|\n",
      "+-----------+------------------+\n",
      "only showing top 20 rows\n",
      "\n"
     ]
    }
   ],
   "source": [
    "from pyspark.sql.functions import to_timestamp, dayofyear\n",
    "\n",
    "vestic_by_day = vestic_df.select('NAME',\\\n",
    "                             'DATE',\\\n",
    "                             to_timestamp(data_frame_with_wnd_speed['DATE'], \"yyyy-MM-dd'T'HH:mm:ss\")    .alias('DATE_TS'),\\\n",
    "                             'WND_SPEED_MS')\\\n",
    "                     .withColumn(\"DAY_OF_YEAR\",dayofyear(\"DATE_TS\"))\\\n",
    "                     .orderBy(\"DAY_OF_YEAR\")\\\n",
    "                     .groupBy(\"DAY_OF_YEAR\")\\\n",
    "                     .agg({'WND_SPEED_MS': 'mean'})\n",
    "\n",
    "vestic_by_day.show()"
   ]
  },
  {
   "cell_type": "code",
   "execution_count": 28,
   "metadata": {},
   "outputs": [
    {
     "name": "stdout",
     "output_type": "stream",
     "text": [
      "+-------------+------------------+\n",
      "|MONTH_OF_YEAR| avg(WND_SPEED_MS)|\n",
      "+-------------+------------------+\n",
      "|            1| 17.87177419354838|\n",
      "|            2| 11.33749999999999|\n",
      "|            3|11.054838709677421|\n",
      "|            4|12.349166666666662|\n",
      "|            5|10.592741935483874|\n",
      "|            6| 8.980833333333331|\n",
      "|            7|11.274999999999995|\n",
      "|            8| 9.213709677419352|\n",
      "|            9|10.655833333333335|\n",
      "|           10|12.287903225806451|\n",
      "|           11|10.086666666666662|\n",
      "|           12|12.799193548387096|\n",
      "+-------------+------------------+\n",
      "\n"
     ]
    }
   ],
   "source": [
    "from pyspark.sql.functions import to_timestamp, dayofyear, month\n",
    "\n",
    "vestic_by_month = vestic_df.select('NAME',\\\n",
    "                             'DATE',\\\n",
    "                             to_timestamp(data_frame_with_wnd_speed['DATE'], \"yyyy-MM-dd'T'HH:mm:ss\")    .alias('DATE_TS'),\\\n",
    "                             'WND_SPEED_MS')\\\n",
    "                     .withColumn(\"MONTH_OF_YEAR\",month(\"DATE_TS\"))\\\n",
    "                     .orderBy(\"MONTH_OF_YEAR\")\\\n",
    "                     .groupBy(\"MONTH_OF_YEAR\")\\\n",
    "                     .agg({'WND_SPEED_MS': 'mean'})\n",
    "\n",
    "vestic_by_month.show()"
   ]
  },
  {
   "cell_type": "code",
   "execution_count": 18,
   "metadata": {},
   "outputs": [
    {
     "name": "stdout",
     "output_type": "stream",
     "text": [
      "     DAY_OF_YEAR  avg(WND_SPEED_MS)\n",
      "0              1             10.650\n",
      "1              2              8.100\n",
      "2              3             18.000\n",
      "3              4             30.725\n",
      "4              5             23.550\n",
      "..           ...                ...\n",
      "360          361              8.625\n",
      "361          362             18.250\n",
      "362          363             13.225\n",
      "363          364             23.050\n",
      "364          365              8.075\n",
      "\n",
      "[365 rows x 2 columns]\n"
     ]
    },
    {
     "data": {
      "text/plain": [
       "<matplotlib.axes._subplots.AxesSubplot at 0x7fe3d8a07208>"
      ]
     },
     "execution_count": 18,
     "metadata": {},
     "output_type": "execute_result"
    },
    {
     "data": {
      "image/png": "[encoded data removed]",
      "text/plain": [
       "<Figure size 1152x288 with 1 Axes>"
      ]
     },
     "metadata": {
      "needs_background": "light"
     },
     "output_type": "display_data"
    }
   ],
   "source": [
    "import pandas as pd\n",
    "import matplotlib.pyplot as plt\n",
    "\n",
    "vestic_by_day_pdf = vestic_by_day.toPandas()\n",
    "print(vestic_by_day_pdf)\n",
    "\n",
    "vestic_by_day_pdf.plot(x='DAY_OF_YEAR', y='avg(WND_SPEED_MS)',\n",
    "                       figsize=(16,4), title='Windspeed VESTMANNAEYJAR, IC, 1950')"
   ]
  },
  {
   "cell_type": "code",
   "execution_count": 19,
   "metadata": {},
   "outputs": [
    {
     "ename": "AnalysisException",
     "evalue": "'path hdfs://192.168.2.87:9000/VESTMANNAEYJAR-1950-wind.csv already exists.;'",
     "output_type": "error",
     "traceback": [
      "\u001b[0;31m---------------------------------------------------------------------------\u001b[0m",
      "\u001b[0;31mPy4JJavaError\u001b[0m                             Traceback (most recent call last)",
      "\u001b[0;32m~/.local/lib/python3.6/site-packages/pyspark/sql/utils.py\u001b[0m in \u001b[0;36mdeco\u001b[0;34m(*a, **kw)\u001b[0m\n\u001b[1;32m     62\u001b[0m         \u001b[0;32mtry\u001b[0m\u001b[0;34m:\u001b[0m\u001b[0;34m\u001b[0m\u001b[0;34m\u001b[0m\u001b[0m\n\u001b[0;32m---> 63\u001b[0;31m             \u001b[0;32mreturn\u001b[0m \u001b[0mf\u001b[0m\u001b[0;34m(\u001b[0m\u001b[0;34m*\u001b[0m\u001b[0ma\u001b[0m\u001b[0;34m,\u001b[0m \u001b[0;34m**\u001b[0m\u001b[0mkw\u001b[0m\u001b[0;34m)\u001b[0m\u001b[0;34m\u001b[0m\u001b[0;34m\u001b[0m\u001b[0m\n\u001b[0m\u001b[1;32m     64\u001b[0m         \u001b[0;32mexcept\u001b[0m \u001b[0mpy4j\u001b[0m\u001b[0;34m.\u001b[0m\u001b[0mprotocol\u001b[0m\u001b[0;34m.\u001b[0m\u001b[0mPy4JJavaError\u001b[0m \u001b[0;32mas\u001b[0m \u001b[0me\u001b[0m\u001b[0;34m:\u001b[0m\u001b[0;34m\u001b[0m\u001b[0;34m\u001b[0m\u001b[0m\n",
      "\u001b[0;32m~/.local/lib/python3.6/site-packages/py4j/protocol.py\u001b[0m in \u001b[0;36mget_return_value\u001b[0;34m(answer, gateway_client, target_id, name)\u001b[0m\n\u001b[1;32m    327\u001b[0m                     \u001b[0;34m\"An error occurred while calling {0}{1}{2}.\\n\"\u001b[0m\u001b[0;34m.\u001b[0m\u001b[0;34m\u001b[0m\u001b[0;34m\u001b[0m\u001b[0m\n\u001b[0;32m--> 328\u001b[0;31m                     format(target_id, \".\", name), value)\n\u001b[0m\u001b[1;32m    329\u001b[0m             \u001b[0;32melse\u001b[0m\u001b[0;34m:\u001b[0m\u001b[0;34m\u001b[0m\u001b[0;34m\u001b[0m\u001b[0m\n",
      "\u001b[0;31mPy4JJavaError\u001b[0m: An error occurred while calling o195.save.\n: org.apache.spark.sql.AnalysisException: path hdfs://192.168.2.87:9000/VESTMANNAEYJAR-1950-wind.csv already exists.;\n\tat org.apache.spark.sql.execution.datasources.InsertIntoHadoopFsRelationCommand.run(InsertIntoHadoopFsRelationCommand.scala:114)\n\tat org.apache.spark.sql.execution.command.DataWritingCommandExec.sideEffectResult$lzycompute(commands.scala:104)\n\tat org.apache.spark.sql.execution.command.DataWritingCommandExec.sideEffectResult(commands.scala:102)\n\tat org.apache.spark.sql.execution.command.DataWritingCommandExec.doExecute(commands.scala:122)\n\tat org.apache.spark.sql.execution.SparkPlan$$anonfun$execute$1.apply(SparkPlan.scala:131)\n\tat org.apache.spark.sql.execution.SparkPlan$$anonfun$execute$1.apply(SparkPlan.scala:127)\n\tat org.apache.spark.sql.execution.SparkPlan$$anonfun$executeQuery$1.apply(SparkPlan.scala:155)\n\tat org.apache.spark.rdd.RDDOperationScope$.withScope(RDDOperationScope.scala:151)\n\tat org.apache.spark.sql.execution.SparkPlan.executeQuery(SparkPlan.scala:152)\n\tat org.apache.spark.sql.execution.SparkPlan.execute(SparkPlan.scala:127)\n\tat org.apache.spark.sql.execution.QueryExecution.toRdd$lzycompute(QueryExecution.scala:83)\n\tat org.apache.spark.sql.execution.QueryExecution.toRdd(QueryExecution.scala:81)\n\tat org.apache.spark.sql.DataFrameWriter$$anonfun$runCommand$1.apply(DataFrameWriter.scala:676)\n\tat org.apache.spark.sql.DataFrameWriter$$anonfun$runCommand$1.apply(DataFrameWriter.scala:676)\n\tat org.apache.spark.sql.execution.SQLExecution$$anonfun$withNewExecutionId$1.apply(SQLExecution.scala:80)\n\tat org.apache.spark.sql.execution.SQLExecution$.withSQLConfPropagated(SQLExecution.scala:127)\n\tat org.apache.spark.sql.execution.SQLExecution$.withNewExecutionId(SQLExecution.scala:75)\n\tat org.apache.spark.sql.DataFrameWriter.runCommand(DataFrameWriter.scala:676)\n\tat org.apache.spark.sql.DataFrameWriter.saveToV1Source(DataFrameWriter.scala:285)\n\tat org.apache.spark.sql.DataFrameWriter.save(DataFrameWriter.scala:271)\n\tat org.apache.spark.sql.DataFrameWriter.save(DataFrameWriter.scala:229)\n\tat sun.reflect.NativeMethodAccessorImpl.invoke0(Native Method)\n\tat sun.reflect.NativeMethodAccessorImpl.invoke(NativeMethodAccessorImpl.java:62)\n\tat sun.reflect.DelegatingMethodAccessorImpl.invoke(DelegatingMethodAccessorImpl.java:43)\n\tat java.lang.reflect.Method.invoke(Method.java:498)\n\tat py4j.reflection.MethodInvoker.invoke(MethodInvoker.java:244)\n\tat py4j.reflection.ReflectionEngine.invoke(ReflectionEngine.java:357)\n\tat py4j.Gateway.invoke(Gateway.java:282)\n\tat py4j.commands.AbstractCommand.invokeMethod(AbstractCommand.java:132)\n\tat py4j.commands.CallCommand.execute(CallCommand.java:79)\n\tat py4j.GatewayConnection.run(GatewayConnection.java:238)\n\tat java.lang.Thread.run(Thread.java:748)\n",
      "\nDuring handling of the above exception, another exception occurred:\n",
      "\u001b[0;31mAnalysisException\u001b[0m                         Traceback (most recent call last)",
      "\u001b[0;32m<ipython-input-19-9813adcf51cc>\u001b[0m in \u001b[0;36m<module>\u001b[0;34m\u001b[0m\n\u001b[0;32m----> 1\u001b[0;31m \u001b[0mvestic_by_day\u001b[0m\u001b[0;34m.\u001b[0m\u001b[0mwrite\u001b[0m\u001b[0;34m.\u001b[0m\u001b[0mformat\u001b[0m\u001b[0;34m(\u001b[0m\u001b[0;34m'csv'\u001b[0m\u001b[0;34m)\u001b[0m\u001b[0;34m.\u001b[0m\u001b[0msave\u001b[0m\u001b[0;34m(\u001b[0m\u001b[0;34m'hdfs://192.168.2.87:9000/VESTMANNAEYJAR-1950-wind.csv'\u001b[0m\u001b[0;34m)\u001b[0m\u001b[0;34m\u001b[0m\u001b[0;34m\u001b[0m\u001b[0m\n\u001b[0m\u001b[1;32m      2\u001b[0m \u001b[0;31m# Have a look in the file explorer? where do all these files come from?\u001b[0m\u001b[0;34m\u001b[0m\u001b[0;34m\u001b[0m\u001b[0;34m\u001b[0m\u001b[0m\n",
      "\u001b[0;32m~/.local/lib/python3.6/site-packages/pyspark/sql/readwriter.py\u001b[0m in \u001b[0;36msave\u001b[0;34m(self, path, format, mode, partitionBy, **options)\u001b[0m\n\u001b[1;32m    737\u001b[0m             \u001b[0mself\u001b[0m\u001b[0;34m.\u001b[0m\u001b[0m_jwrite\u001b[0m\u001b[0;34m.\u001b[0m\u001b[0msave\u001b[0m\u001b[0;34m(\u001b[0m\u001b[0;34m)\u001b[0m\u001b[0;34m\u001b[0m\u001b[0;34m\u001b[0m\u001b[0m\n\u001b[1;32m    738\u001b[0m         \u001b[0;32melse\u001b[0m\u001b[0;34m:\u001b[0m\u001b[0;34m\u001b[0m\u001b[0;34m\u001b[0m\u001b[0m\n\u001b[0;32m--> 739\u001b[0;31m             \u001b[0mself\u001b[0m\u001b[0;34m.\u001b[0m\u001b[0m_jwrite\u001b[0m\u001b[0;34m.\u001b[0m\u001b[0msave\u001b[0m\u001b[0;34m(\u001b[0m\u001b[0mpath\u001b[0m\u001b[0;34m)\u001b[0m\u001b[0;34m\u001b[0m\u001b[0;34m\u001b[0m\u001b[0m\n\u001b[0m\u001b[1;32m    740\u001b[0m \u001b[0;34m\u001b[0m\u001b[0m\n\u001b[1;32m    741\u001b[0m     \u001b[0;34m@\u001b[0m\u001b[0msince\u001b[0m\u001b[0;34m(\u001b[0m\u001b[0;36m1.4\u001b[0m\u001b[0;34m)\u001b[0m\u001b[0;34m\u001b[0m\u001b[0;34m\u001b[0m\u001b[0m\n",
      "\u001b[0;32m~/.local/lib/python3.6/site-packages/py4j/java_gateway.py\u001b[0m in \u001b[0;36m__call__\u001b[0;34m(self, *args)\u001b[0m\n\u001b[1;32m   1255\u001b[0m         \u001b[0manswer\u001b[0m \u001b[0;34m=\u001b[0m \u001b[0mself\u001b[0m\u001b[0;34m.\u001b[0m\u001b[0mgateway_client\u001b[0m\u001b[0;34m.\u001b[0m\u001b[0msend_command\u001b[0m\u001b[0;34m(\u001b[0m\u001b[0mcommand\u001b[0m\u001b[0;34m)\u001b[0m\u001b[0;34m\u001b[0m\u001b[0;34m\u001b[0m\u001b[0m\n\u001b[1;32m   1256\u001b[0m         return_value = get_return_value(\n\u001b[0;32m-> 1257\u001b[0;31m             answer, self.gateway_client, self.target_id, self.name)\n\u001b[0m\u001b[1;32m   1258\u001b[0m \u001b[0;34m\u001b[0m\u001b[0m\n\u001b[1;32m   1259\u001b[0m         \u001b[0;32mfor\u001b[0m \u001b[0mtemp_arg\u001b[0m \u001b[0;32min\u001b[0m \u001b[0mtemp_args\u001b[0m\u001b[0;34m:\u001b[0m\u001b[0;34m\u001b[0m\u001b[0;34m\u001b[0m\u001b[0m\n",
      "\u001b[0;32m~/.local/lib/python3.6/site-packages/pyspark/sql/utils.py\u001b[0m in \u001b[0;36mdeco\u001b[0;34m(*a, **kw)\u001b[0m\n\u001b[1;32m     67\u001b[0m                                              e.java_exception.getStackTrace()))\n\u001b[1;32m     68\u001b[0m             \u001b[0;32mif\u001b[0m \u001b[0ms\u001b[0m\u001b[0;34m.\u001b[0m\u001b[0mstartswith\u001b[0m\u001b[0;34m(\u001b[0m\u001b[0;34m'org.apache.spark.sql.AnalysisException: '\u001b[0m\u001b[0;34m)\u001b[0m\u001b[0;34m:\u001b[0m\u001b[0;34m\u001b[0m\u001b[0;34m\u001b[0m\u001b[0m\n\u001b[0;32m---> 69\u001b[0;31m                 \u001b[0;32mraise\u001b[0m \u001b[0mAnalysisException\u001b[0m\u001b[0;34m(\u001b[0m\u001b[0ms\u001b[0m\u001b[0;34m.\u001b[0m\u001b[0msplit\u001b[0m\u001b[0;34m(\u001b[0m\u001b[0;34m': '\u001b[0m\u001b[0;34m,\u001b[0m \u001b[0;36m1\u001b[0m\u001b[0;34m)\u001b[0m\u001b[0;34m[\u001b[0m\u001b[0;36m1\u001b[0m\u001b[0;34m]\u001b[0m\u001b[0;34m,\u001b[0m \u001b[0mstackTrace\u001b[0m\u001b[0;34m)\u001b[0m\u001b[0;34m\u001b[0m\u001b[0;34m\u001b[0m\u001b[0m\n\u001b[0m\u001b[1;32m     70\u001b[0m             \u001b[0;32mif\u001b[0m \u001b[0ms\u001b[0m\u001b[0;34m.\u001b[0m\u001b[0mstartswith\u001b[0m\u001b[0;34m(\u001b[0m\u001b[0;34m'org.apache.spark.sql.catalyst.analysis'\u001b[0m\u001b[0;34m)\u001b[0m\u001b[0;34m:\u001b[0m\u001b[0;34m\u001b[0m\u001b[0;34m\u001b[0m\u001b[0m\n\u001b[1;32m     71\u001b[0m                 \u001b[0;32mraise\u001b[0m \u001b[0mAnalysisException\u001b[0m\u001b[0;34m(\u001b[0m\u001b[0ms\u001b[0m\u001b[0;34m.\u001b[0m\u001b[0msplit\u001b[0m\u001b[0;34m(\u001b[0m\u001b[0;34m': '\u001b[0m\u001b[0;34m,\u001b[0m \u001b[0;36m1\u001b[0m\u001b[0;34m)\u001b[0m\u001b[0;34m[\u001b[0m\u001b[0;36m1\u001b[0m\u001b[0;34m]\u001b[0m\u001b[0;34m,\u001b[0m \u001b[0mstackTrace\u001b[0m\u001b[0;34m)\u001b[0m\u001b[0;34m\u001b[0m\u001b[0;34m\u001b[0m\u001b[0m\n",
      "\u001b[0;31mAnalysisException\u001b[0m: 'path hdfs://192.168.2.87:9000/VESTMANNAEYJAR-1950-wind.csv already exists.;'"
     ]
    }
   ],
   "source": [
    "vestic_by_day.write.format('csv').save('hdfs://192.168.2.87:9000/VESTMANNAEYJAR-1950-wind.csv')\n",
    "# Have a look in the file explorer? where do all these files come from?"
   ]
  },
  {
   "cell_type": "code",
   "execution_count": null,
   "metadata": {},
   "outputs": [],
   "source": [
    "# To delete...\n",
    "# ~/hadoop-2.7.7/bin/hdfs dfs -rm -r /VESTMANNAEYJAR-1950-wind.csv"
   ]
  },
  {
   "cell_type": "code",
   "execution_count": null,
   "metadata": {},
   "outputs": [],
   "source": []
  },
  {
   "cell_type": "code",
   "execution_count": null,
   "metadata": {},
   "outputs": [],
   "source": []
  },
  {
   "cell_type": "code",
   "execution_count": null,
   "metadata": {},
   "outputs": [],
   "source": []
  }
 ],
 "metadata": {
  "kernelspec": {
   "display_name": "Python 3",
   "language": "python",
   "name": "python3"
  },
  "language_info": {
   "codemirror_mode": {
    "name": "ipython",
    "version": 3
   },
   "file_extension": ".py",
   "mimetype": "text/x-python",
   "name": "python",
   "nbconvert_exporter": "python",
   "pygments_lexer": "ipython3",
   "version": "3.6.9"
  }
 },
 "nbformat": 4,
 "nbformat_minor": 2
}
