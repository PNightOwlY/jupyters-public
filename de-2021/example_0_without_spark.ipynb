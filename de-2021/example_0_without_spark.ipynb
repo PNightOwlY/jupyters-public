{
 "cells": [
  {
   "cell_type": "code",
   "execution_count": 1,
   "id": "analyzed-norman",
   "metadata": {},
   "outputs": [
    {
     "name": "stdout",
     "output_type": "stream",
     "text": [
      "['hello', 'my', 'name', 'is...']\n",
      "my\n",
      "4\n"
     ]
    }
   ],
   "source": [
    "# Use of .split( )\n",
    "\n",
    "line_of_text = 'hello my name is...'\n",
    "words = line_of_text.split(' ')\n",
    "print(words)\n",
    "print(words[1])\n",
    "print(len(words))"
   ]
  },
  {
   "cell_type": "code",
   "execution_count": 2,
   "id": "identical-breast",
   "metadata": {},
   "outputs": [
    {
     "name": "stdout",
     "output_type": "stream",
     "text": [
      "1716\n"
     ]
    }
   ],
   "source": [
    "# Count the words in a file...conventional code.\n",
    "\n",
    "number_words = 0\n",
    "\n",
    "with open('/home/ubuntu/king-dream.txt') as file:\n",
    "    line = file.readline()\n",
    "    while line:\n",
    "        number_words += len(line.split(' '))\n",
    "        line = file.readline()\n",
    "    \n",
    "print(number_words)"
   ]
  },
  {
   "cell_type": "code",
   "execution_count": 3,
   "id": "neural-centre",
   "metadata": {},
   "outputs": [
    {
     "name": "stdout",
     "output_type": "stream",
     "text": [
      "[['I', 'am', 'happy', 'to', 'join', 'with', 'you', 'today', 'in', 'what', 'will', 'go', 'down', 'in', 'history', 'as', 'the', 'greatest', 'demonstration', 'for', 'freedom', 'in', 'the', 'history', 'of', 'our', 'nation.\\n'], ['\\n']]\n",
      "[27, 1, 58, 1, 92, 1, 119, 1, 55, 1, 103, 1, 112, 1, 102, 1, 62, 1, 4, 1, 15, 1, 4, 1, 164, 1, 2, 1, 119, 1, 16, 1, 27, 1, 34, 1, 37, 1, 36, 1, 35, 1, 5, 1, 58, 1, 5, 1, 52, 1, 17, 1, 75, 1, 25, 1, 32, 1, 13, 1, 12, 1, 10, 1, 9, 1, 9, 1, 9, 1, 4, 1, 8, 1, 8, 1, 10, 1, 6, 1, 1, 1, 68, 1, 6, 1, 8]\n",
      "total words= 1716\n"
     ]
    }
   ],
   "source": [
    "# Count the words in a file...with map( ) and reduce( ) ... without Spark!\n",
    "from functools import reduce\n",
    "from operator import add\n",
    "\n",
    "# Think instead in terms of 'map' and 'reduce'\n",
    "with open('/home/ubuntu/king-dream.txt') as file:\n",
    "    lines = file.readlines()\n",
    "    #print(lines)\n",
    "    \n",
    "    words = list(map(lambda line: line.split(' '), lines))\n",
    "    print(words[0:2])\n",
    "    \n",
    "    word_counts = list(map(lambda w: len(w), words))\n",
    "    print(word_counts)\n",
    "    \n",
    "    total_words = reduce(add, word_counts)\n",
    "    print(f'total words= {total_words}')    \n"
   ]
  },
  {
   "cell_type": "code",
   "execution_count": 4,
   "id": "smooth-gabriel",
   "metadata": {},
   "outputs": [],
   "source": [
    "# ... what about a larger file?"
   ]
  }
 ],
 "metadata": {
  "kernelspec": {
   "display_name": "Python 3",
   "language": "python",
   "name": "python3"
  },
  "language_info": {
   "codemirror_mode": {
    "name": "ipython",
    "version": 3
   },
   "file_extension": ".py",
   "mimetype": "text/x-python",
   "name": "python",
   "nbconvert_exporter": "python",
   "pygments_lexer": "ipython3",
   "version": "3.8.5"
  }
 },
 "nbformat": 4,
 "nbformat_minor": 5
}
